{
 "cells": [
  {
   "cell_type": "markdown",
   "metadata": {},
   "source": [
    "# Red Neuronal Perceptrón Multicapa en Keras"
   ]
  },
  {
   "cell_type": "markdown",
   "metadata": {},
   "source": [
    "Implementación de una red neuronal artificial de arquitectura perceptrón multicapa utilizando la interfaz de tensorflow y keras.\n",
    "La aplicación utilizada para probar la implementación del modelo es la del reconocimiento de dígitos escritos a mano, MNIST.\n",
    "\n",
    "Autor: M. en C. Mario Xavier Canche Uc, Agosto 2020, mario.canche@cimat.mx\n",
    "\n",
    "Basado en: https://www.cimat.mx/~mrivera/cursos/aprendizaje_profundo/nn_multicapa/nn_multicapa.html"
   ]
  },
  {
   "cell_type": "markdown",
   "metadata": {},
   "source": [
    "## Cargamos las librerias"
   ]
  },
  {
   "cell_type": "code",
   "execution_count": 1,
   "metadata": {},
   "outputs": [],
   "source": [
    "# Librerias de tensorflow y keras\n",
    "import tensorflow.keras as K\n",
    "import tensorflow as tf\n",
    "from tensorflow.python.client import device_lib\n",
    "from tensorflow.keras.utils import to_categorical\n",
    "\n",
    "# librerias para definir el modelo\n",
    "from tensorflow.keras import models\n",
    "from tensorflow.keras import layers\n",
    "\n",
    "# Cargar la interfaz a la base de datos que vienen con keras\n",
    "from tensorflow.keras.datasets import mnist\n",
    "\n",
    "%matplotlib inline\n",
    "import matplotlib.pyplot as plt\n",
    "from sklearn.metrics import confusion_matrix, precision_score, recall_score \n",
    "from sklearn.metrics import f1_score, cohen_kappa_score\n",
    "import seaborn as sns \n",
    "import time\n",
    "import numpy as np"
   ]
  },
  {
   "cell_type": "code",
   "execution_count": 2,
   "metadata": {},
   "outputs": [
    {
     "name": "stdout",
     "output_type": "stream",
     "text": [
      "backend : tensorflow\n",
      "keras version : 2.2.4-tf\n",
      "tensorflow version : 2.1.0\n",
      "-------\n",
      "[name: \"/device:CPU:0\"\n",
      "device_type: \"CPU\"\n",
      "memory_limit: 268435456\n",
      "locality {\n",
      "}\n",
      "incarnation: 17124314183588558751\n",
      ", name: \"/device:XLA_CPU:0\"\n",
      "device_type: \"XLA_CPU\"\n",
      "memory_limit: 17179869184\n",
      "locality {\n",
      "}\n",
      "incarnation: 4868829157542645878\n",
      "physical_device_desc: \"device: XLA_CPU device\"\n",
      "]\n"
     ]
    }
   ],
   "source": [
    "# Imprimimos información del equipo donde se procesara\n",
    "print('backend :', K.backend.backend())\n",
    "print('keras version :', K.__version__)\n",
    "print('tensorflow version :', tf.__version__)\n",
    "print(\"-------\")\n",
    "print(device_lib.list_local_devices())"
   ]
  },
  {
   "cell_type": "markdown",
   "metadata": {},
   "source": [
    "## Cargamos la base de datos MNIST"
   ]
  },
  {
   "cell_type": "code",
   "execution_count": 3,
   "metadata": {},
   "outputs": [],
   "source": [
    "# Lectura de los datos\n",
    "(train_images, train_labels), (test_images, test_labels) = mnist.load_data()"
   ]
  },
  {
   "cell_type": "code",
   "execution_count": 4,
   "metadata": {},
   "outputs": [
    {
     "data": {
      "image/png": "[encoded data removed]",
      "text/plain": [
       "<Figure size 720x288 with 10 Axes>"
      ]
     },
     "metadata": {
      "needs_background": "light"
     },
     "output_type": "display_data"
    }
   ],
   "source": [
    "# Visualizamos una muestra de los datos\n",
    "plt.figure(figsize=(10,4))\n",
    "for i in range(10):\n",
    "    plt.subplot(2,5,i+1)\n",
    "    idx = list(train_labels).index(i)\n",
    "    plt.imshow(train_images[idx], 'gray')\n",
    "    plt.title(train_labels[idx])\n",
    "    plt.axis('off')\n",
    "    \n",
    "plt.show()"
   ]
  },
  {
   "cell_type": "code",
   "execution_count": 5,
   "metadata": {},
   "outputs": [
    {
     "name": "stdout",
     "output_type": "stream",
     "text": [
      "Número de muestras:      60000\n",
      "Tamaño de cada muestra:  784\n"
     ]
    }
   ],
   "source": [
    "# Prepocesamiento de los datos\n",
    "train_images = train_images.reshape((60000, 28 * 28))\n",
    "train_images = train_images.astype('float32') / 255\n",
    "\n",
    "test_images = test_images.reshape((10000, 28 * 28))\n",
    "test_images = test_images.astype('float32') / 255\n",
    "\n",
    "numIm, szIm = train_images.shape\n",
    "print(\"Número de muestras:     \", numIm)\n",
    "print(\"Tamaño de cada muestra: \", szIm)"
   ]
  },
  {
   "cell_type": "code",
   "execution_count": 6,
   "metadata": {},
   "outputs": [],
   "source": [
    "# Preprocesamiento de las etiquetas\n",
    "train_labels = to_categorical(train_labels)\n",
    "test_labels  = to_categorical(test_labels)"
   ]
  },
  {
   "cell_type": "markdown",
   "metadata": {},
   "source": [
    "## Definimos la Arquitectura de la Red"
   ]
  },
  {
   "cell_type": "code",
   "execution_count": 7,
   "metadata": {},
   "outputs": [],
   "source": [
    "# Arquitectura de la red\n",
    "nn = models.Sequential()    \n",
    "nn.add(layers.Dense(units=512,activation='relu', input_shape=(szIm,)))         \n",
    "nn.add(layers.Dense(units=10, activation='softmax'))"
   ]
  },
  {
   "cell_type": "code",
   "execution_count": 8,
   "metadata": {},
   "outputs": [],
   "source": [
    "# Agregamos el optimizador y las metricas de evaluacion\n",
    "nn.compile(optimizer='rmsprop',\n",
    "           loss     ='categorical_crossentropy',\n",
    "           metrics  =['accuracy'])"
   ]
  },
  {
   "cell_type": "markdown",
   "metadata": {},
   "source": [
    "## Entrenamos el Modelo"
   ]
  },
  {
   "cell_type": "code",
   "execution_count": 9,
   "metadata": {},
   "outputs": [
    {
     "name": "stdout",
     "output_type": "stream",
     "text": [
      "Train on 48000 samples, validate on 12000 samples\n",
      "Epoch 1/10\n",
      "48000/48000 - 3s - loss: 0.2833 - accuracy: 0.9182 - val_loss: 0.1435 - val_accuracy: 0.9600\n",
      "Epoch 2/10\n",
      "48000/48000 - 2s - loss: 0.1171 - accuracy: 0.9657 - val_loss: 0.1043 - val_accuracy: 0.9683\n",
      "Epoch 3/10\n",
      "48000/48000 - 2s - loss: 0.0772 - accuracy: 0.9767 - val_loss: 0.0855 - val_accuracy: 0.9733\n",
      "Epoch 4/10\n",
      "48000/48000 - 2s - loss: 0.0560 - accuracy: 0.9834 - val_loss: 0.0798 - val_accuracy: 0.9769\n",
      "Epoch 5/10\n",
      "48000/48000 - 2s - loss: 0.0412 - accuracy: 0.9877 - val_loss: 0.0781 - val_accuracy: 0.9776\n",
      "Epoch 6/10\n",
      "48000/48000 - 2s - loss: 0.0315 - accuracy: 0.9906 - val_loss: 0.0809 - val_accuracy: 0.9776\n",
      "Epoch 7/10\n",
      "48000/48000 - 2s - loss: 0.0239 - accuracy: 0.9929 - val_loss: 0.0801 - val_accuracy: 0.9790\n",
      "Epoch 8/10\n",
      "48000/48000 - 2s - loss: 0.0179 - accuracy: 0.9947 - val_loss: 0.0846 - val_accuracy: 0.9790\n",
      "Epoch 9/10\n",
      "48000/48000 - 3s - loss: 0.0133 - accuracy: 0.9962 - val_loss: 0.0824 - val_accuracy: 0.9805\n",
      "Epoch 10/10\n",
      "48000/48000 - 2s - loss: 0.0104 - accuracy: 0.9973 - val_loss: 0.0843 - val_accuracy: 0.9786\n",
      "Tiempo: 23.22263216972351 secs\n"
     ]
    }
   ],
   "source": [
    "# Entrenamos la red\n",
    "tic=time.time()\n",
    "history = nn.fit(x = train_images, \n",
    "                 y = train_labels, \n",
    "                 validation_split=0.2,\n",
    "                 epochs    = 10, \n",
    "                 shuffle   = True,\n",
    "                 batch_size = 128,\n",
    "                 verbose=2)\n",
    "print('Tiempo: {} secs'.format(time.time()-tic))"
   ]
  },
  {
   "cell_type": "code",
   "execution_count": 10,
   "metadata": {},
   "outputs": [
    {
     "name": "stdout",
     "output_type": "stream",
     "text": [
      "10000/10000 [==============================] - 0s 45us/sample - loss: 0.0723 - accuracy: 0.9812\n",
      "[0.07227691715878028, 0.9812]\n"
     ]
    }
   ],
   "source": [
    "# Evaluamos el conjunto de test\n",
    "results = nn.evaluate(test_images, test_labels)\n",
    "print(results)"
   ]
  },
  {
   "cell_type": "markdown",
   "metadata": {},
   "source": [
    "## Graficamos la matriz de confusión"
   ]
  },
  {
   "cell_type": "code",
   "execution_count": 11,
   "metadata": {},
   "outputs": [],
   "source": [
    "test_predicted_labels = nn.predict(test_images)\n",
    "test_true_labels      = np.argmax(test_labels,axis=1)\n",
    "test_predicted_labels = np.argmax(test_predicted_labels,axis=1)"
   ]
  },
  {
   "cell_type": "code",
   "execution_count": 12,
   "metadata": {},
   "outputs": [
    {
     "data": {
      "image/png": "[encoded data removed]",
      "text/plain": [
       "<Figure size 792x648 with 2 Axes>"
      ]
     },
     "metadata": {
      "needs_background": "light"
     },
     "output_type": "display_data"
    }
   ],
   "source": [
    "C = confusion_matrix(test_true_labels, test_predicted_labels)\n",
    "\n",
    "f, ax = plt.subplots(figsize=(11, 9))\n",
    "sns.set()\n",
    "cmap = sns.diverging_palette(220, 10, as_cmap=True)\n",
    "ax = sns.heatmap(C, cmap=cmap, square=True,\n",
    "                 annot=True, fmt='d', linewidths=.5)\n",
    "#ax.set_title('Matriz de Confusión')\n",
    "plt.show()"
   ]
  },
  {
   "cell_type": "code",
   "execution_count": null,
   "metadata": {},
   "outputs": [],
   "source": []
  },
  {
   "cell_type": "code",
   "execution_count": null,
   "metadata": {},
   "outputs": [],
   "source": []
  }
 ],
 "metadata": {
  "kernelspec": {
   "display_name": "Python 3",
   "language": "python",
   "name": "python3"
  },
  "language_info": {
   "codemirror_mode": {
    "name": "ipython",
    "version": 3
   },
   "file_extension": ".py",
   "mimetype": "text/x-python",
   "name": "python",
   "nbconvert_exporter": "python",
   "pygments_lexer": "ipython3",
   "version": "3.7.1"
  }
 },
 "nbformat": 4,
 "nbformat_minor": 2
}
