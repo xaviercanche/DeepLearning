{
 "cells": [
  {
   "cell_type": "markdown",
   "metadata": {},
   "source": [
    "# Red Neuronal Perceptrón Multicapa en PyTorch"
   ]
  },
  {
   "cell_type": "markdown",
   "metadata": {},
   "source": [
    "Implementación de una red neuronal artificial de arquitectura perceptrón multicapa utilizando la interfaz de PyTorch.\n",
    "La aplicación utilizada para probar la implementación del modelo es la del reconocimiento de dígitos escritos a mano, MNIST.\n",
    "\n",
    "Autor: M. en C. Mario Xavier Canche Uc, Agosto 2020, mario.canche@cimat.mx\n",
    "\n",
    "Basado en: https://www.cimat.mx/~mrivera/cursos/aprendizaje_profundo/nn_multicapa/nn_multicapa.html"
   ]
  },
  {
   "cell_type": "markdown",
   "metadata": {},
   "source": [
    "## Cargamos las librerias"
   ]
  },
  {
   "cell_type": "code",
   "execution_count": 1,
   "metadata": {},
   "outputs": [],
   "source": [
    "# Importamos las librerias de PyTorch\n",
    "import torch\n",
    "import torch.nn as nn\n",
    "from torch.autograd import Variable\n",
    "import torch.optim as optim\n",
    "import torchvision.datasets as dset\n",
    "import torchvision.transforms as transforms\n",
    "\n",
    "import torch.nn.functional as F\n",
    "import time\n",
    "\n",
    "import matplotlib.pyplot as plt\n",
    "from sklearn.metrics import confusion_matrix, precision_score, recall_score \n",
    "import seaborn as sns "
   ]
  },
  {
   "cell_type": "markdown",
   "metadata": {},
   "source": [
    "## Cargamos la base de datos MNIST"
   ]
  },
  {
   "cell_type": "code",
   "execution_count": 2,
   "metadata": {},
   "outputs": [],
   "source": [
    "# Descargamos el dataset\n",
    "root = '/Users/xaviercanche/Dropbox/Cimat2020/clases/Aprendizaje_Maquina_II/datasets'\n",
    "\n",
    "#torch.manual_seed(123) #fijamos la semilla\n",
    "trans = transforms.Compose([transforms.ToTensor()]) #Transformador para el dataset\n",
    "\n",
    "train_set = dset.MNIST(root=root, train=True, transform=trans, download=True)\n",
    "test_set = dset.MNIST(root=root, train=False, transform=trans)"
   ]
  },
  {
   "cell_type": "code",
   "execution_count": 3,
   "metadata": {},
   "outputs": [
    {
     "name": "stdout",
     "output_type": "stream",
     "text": [
      "Trainning batch number: 469\n",
      "Testing batch number: 79\n"
     ]
    }
   ],
   "source": [
    "# preprocesamos los datos\n",
    "batch_size   = 128\n",
    "train_loader = torch.utils.data.DataLoader( dataset = train_set, batch_size = batch_size, shuffle = True  )\n",
    "test_loader  = torch.utils.data.DataLoader( dataset = test_set , batch_size = batch_size, shuffle = False )\n",
    "\n",
    "print ('Trainning batch number: {}'.format(len(train_loader)))\n",
    "print ('Testing batch number: {}'.format(len(test_loader)))"
   ]
  },
  {
   "cell_type": "markdown",
   "metadata": {},
   "source": [
    "## Definimos la Arquitectura de la Red"
   ]
  },
  {
   "cell_type": "code",
   "execution_count": 4,
   "metadata": {},
   "outputs": [],
   "source": [
    "# Arquitectura de la red\n",
    "class MLP(nn.Module):\n",
    "    def __init__(self):\n",
    "        super(MLP, self).__init__()\n",
    "        self.fc1 = nn.Linear(28*28, 512) # capa oculta \n",
    "        self.fc2 = nn.Linear(512, 10) # capa de salida \n",
    "        \n",
    "        self.loss_criterion = nn.CrossEntropyLoss() # Función de pérdida\n",
    "\n",
    "    def forward(self, x, target):\n",
    "        # transforma las imágenes de tamaño (n, 28, 28) a (n, 784)\n",
    "        x = x.view(-1, 28*28) \n",
    "        \n",
    "        # Capa oculta y su funcion de activacion\n",
    "        x = F.relu(self.fc1(x)) # Función de activación relu en la salida de la capa oculta\n",
    "        \n",
    "        # Capa de salida y su funcion de activacion\n",
    "        x = F.softmax(self.fc2(x), dim=1) # Función de activación softmax en la salida de la capa de salida\n",
    "        \n",
    "        loss = self.loss_criterion(x, target) # Calculo de la función de pérdida \n",
    "        return x, loss\n"
   ]
  },
  {
   "cell_type": "code",
   "execution_count": 5,
   "metadata": {},
   "outputs": [],
   "source": [
    "# Instanciamos el modelo y agregamos el optimizador\n",
    "model = MLP()\n",
    "optimizer = optim.RMSprop(model.parameters(), lr=0.001, momentum=0.0, alpha=0.9, eps=1e-07)\n",
    "###optimizer = optim.SGD(model.parameters(), lr=0.01, momentum=0.9)"
   ]
  },
  {
   "cell_type": "markdown",
   "metadata": {},
   "source": [
    "## Entrenamos el Modelo"
   ]
  },
  {
   "cell_type": "code",
   "execution_count": 6,
   "metadata": {},
   "outputs": [],
   "source": [
    "# Funcion para Entrenar la red\n",
    "def evaluate(model, dataset_loader, optimizer, train=False):\n",
    "    \n",
    "    correct_cnt = 0 # contador de aciertos\n",
    "    ave_loss = 0 # acumulador de la función de pérdida\n",
    "    count = 0 # contador de muestras\n",
    "    \n",
    "    for batch_idx, (x, target) in enumerate(dataset_loader):\n",
    "        # sumamos el tamaño de batch, esto es porque n_batches*tamaño_batch != n_muestras\n",
    "        count += len(x)\n",
    "        \n",
    "        if train:\n",
    "            optimizer.zero_grad() # iniciamos a 0 los valores de los gradiente\n",
    "            \n",
    "        # Convertimos el tensor a variable del modulo autograd\n",
    "        x = Variable(x)\n",
    "        target = Variable(target)\n",
    "        \n",
    "        score, loss = model(x, target) # predecimos con el metodo forward\n",
    "        _, pred_label = torch.max(score.data, 1) # pasamos de one hot a número\n",
    "        correct_cnt += (pred_label == target.data).sum() # calculamos el número de etiquetas correctas\n",
    "        ave_loss += loss.item() # sumamos el resultado de la función de pérdida para mostrar después\n",
    "        \n",
    "        if train:\n",
    "            loss.backward() # calcula los gradientes y los propaga \n",
    "            optimizer.step() # adaptamos los pesos con los gradientes propagados\n",
    "    \n",
    "    accuracy = int(correct_cnt)/count # calculamos la precisión total\n",
    "    ave_loss /= count # calculamos la pérdida media\n",
    "    \n",
    "    print ('==>>> loss: {:.6f}, accuracy: {:.4f}'.format(ave_loss, accuracy)) # mostramos resultados"
   ]
  },
  {
   "cell_type": "code",
   "execution_count": 7,
   "metadata": {},
   "outputs": [
    {
     "name": "stdout",
     "output_type": "stream",
     "text": [
      "Epoch: 0\n",
      "Train\n",
      "==>>> loss: 0.012394, accuracy: 0.8982\n",
      "Tiempo: 14.091159105300903 secs\n",
      "Epoch: 1\n",
      "Train\n",
      "==>>> loss: 0.011880, accuracy: 0.9465\n",
      "Tiempo: 28.448319911956787 secs\n",
      "Epoch: 2\n",
      "Train\n",
      "==>>> loss: 0.011756, accuracy: 0.9608\n",
      "Tiempo: 43.65545988082886 secs\n",
      "Epoch: 3\n",
      "Train\n",
      "==>>> loss: 0.011686, accuracy: 0.9692\n",
      "Tiempo: 58.38509273529053 secs\n",
      "Epoch: 4\n",
      "Train\n",
      "==>>> loss: 0.011639, accuracy: 0.9747\n",
      "Tiempo: 74.01159596443176 secs\n",
      "Epoch: 5\n",
      "Train\n",
      "==>>> loss: 0.011609, accuracy: 0.9784\n",
      "Tiempo: 88.90223002433777 secs\n",
      "Epoch: 6\n",
      "Train\n",
      "==>>> loss: 0.011583, accuracy: 0.9811\n",
      "Tiempo: 103.38857769966125 secs\n",
      "Epoch: 7\n",
      "Train\n",
      "==>>> loss: 0.011563, accuracy: 0.9833\n",
      "Tiempo: 118.71666884422302 secs\n",
      "Epoch: 8\n",
      "Train\n",
      "==>>> loss: 0.011545, accuracy: 0.9856\n",
      "Tiempo: 133.50229692459106 secs\n",
      "Epoch: 9\n",
      "Train\n",
      "==>>> loss: 0.011531, accuracy: 0.9872\n",
      "Tiempo: 149.6485607624054 secs\n"
     ]
    }
   ],
   "source": [
    "# Entrenamos la Red\n",
    "tic=time.time()\n",
    "for epoch in range(10):\n",
    "    print(\"Epoch: {}\".format(epoch))\n",
    "    print(\"Train\")\n",
    "    evaluate(model, train_loader, optimizer, train=True)\n",
    "    print('Tiempo: {} secs'.format(time.time()-tic))"
   ]
  },
  {
   "cell_type": "code",
   "execution_count": 8,
   "metadata": {},
   "outputs": [
    {
     "name": "stdout",
     "output_type": "stream",
     "text": [
      "Test\n",
      "==>>> loss: 0.011723, accuracy: 0.9783\n"
     ]
    }
   ],
   "source": [
    "# Evaluamos el conjunto de test\n",
    "print(\"Test\")\n",
    "evaluate(model, test_loader, optimizer, train=False)"
   ]
  },
  {
   "cell_type": "markdown",
   "metadata": {},
   "source": [
    "## Graficamos la matriz de confusión"
   ]
  },
  {
   "cell_type": "code",
   "execution_count": 9,
   "metadata": {},
   "outputs": [],
   "source": [
    "# Extraemos las etiquetas predichas\n",
    "test_true_labels = []\n",
    "test_predicted_labels = []\n",
    "\n",
    "for batch_idx, (x, target) in enumerate(test_loader):\n",
    "            \n",
    "    # Convertimos el tensor a variable del modulo autograd\n",
    "    x = Variable(x)\n",
    "    target = Variable(target)\n",
    "        \n",
    "    score, loss = model(x, target) # predecimos con el metodo forward\n",
    "    _, pred_label = torch.max(score.data, 1) # pasamos de one hot a número\n",
    "    \n",
    "    test_true_labels += target.numpy().tolist()\n",
    "    test_predicted_labels += pred_label.numpy().tolist()"
   ]
  },
  {
   "cell_type": "code",
   "execution_count": 10,
   "metadata": {},
   "outputs": [
    {
     "data": {
      "image/png": "[encoded data removed]",
      "text/plain": [
       "<Figure size 792x648 with 2 Axes>"
      ]
     },
     "metadata": {
      "needs_background": "light"
     },
     "output_type": "display_data"
    }
   ],
   "source": [
    "# Creamos la matriz de confusión\n",
    "C = confusion_matrix(test_true_labels, test_predicted_labels)\n",
    "\n",
    "f, ax = plt.subplots(figsize=(11, 9))\n",
    "sns.set()\n",
    "cmap = sns.diverging_palette(220, 10, as_cmap=True)\n",
    "ax = sns.heatmap(C, cmap=cmap, square=True,\n",
    "                 annot=True, fmt='d', linewidths=.5)\n",
    "ax.set_title('Matriz de Confusión')\n",
    "plt.show()"
   ]
  },
  {
   "cell_type": "code",
   "execution_count": null,
   "metadata": {},
   "outputs": [],
   "source": []
  },
  {
   "cell_type": "code",
   "execution_count": null,
   "metadata": {},
   "outputs": [],
   "source": []
  }
 ],
 "metadata": {
  "kernelspec": {
   "display_name": "Python 3",
   "language": "python",
   "name": "python3"
  },
  "language_info": {
   "codemirror_mode": {
    "name": "ipython",
    "version": 3
   },
   "file_extension": ".py",
   "mimetype": "text/x-python",
   "name": "python",
   "nbconvert_exporter": "python",
   "pygments_lexer": "ipython3",
   "version": "3.7.1"
  }
 },
 "nbformat": 4,
 "nbformat_minor": 2
}
